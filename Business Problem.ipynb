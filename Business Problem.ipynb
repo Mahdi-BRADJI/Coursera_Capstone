{
 "cells": [
  {
   "cell_type": "markdown",
   "metadata": {},
   "source": [
    "# The battle of neighborhoods Project (IBM Data Science Capstone)"
   ]
  },
  {
   "cell_type": "markdown",
   "metadata": {},
   "source": [
    "## 1) Project Description ( Business Problem )"
   ]
  },
  {
   "cell_type": "markdown",
   "metadata": {},
   "source": [
    "Business : Opening a restaurant .<br>\n",
    "Location : Algiers , Capital of Algeria. <br>\n",
    "Problem : <br>\n",
    "somoene wants to start a restaurant business in Algiers but he is confused about the **Best Place** to get the max amount of clients , and the **Type of restaurant** ( turkich ..ext) to target the right clients. \n",
    "So the purpose of this project is to help **business-men** with the right insights based on algerian venues data. it aims to make analysis to exsisting restaurants to expand."
   ]
  },
  {
   "cell_type": "markdown",
   "metadata": {},
   "source": [
    "### 1-1) Foursquare API:\n"
   ]
  },
  {
   "cell_type": "markdown",
   "metadata": {},
   "source": [
    "This project would use Four-square API as its prime data gathering source as it has a database of millions of places, especially their places API which provides the ability to perform location search, location sharing and details about a business."
   ]
  },
  {
   "cell_type": "markdown",
   "metadata": {},
   "source": [
    "### 1-2) Workflow:\n"
   ]
  },
  {
   "cell_type": "markdown",
   "metadata": {},
   "source": [
    "Using credentials of Foursquare API features of nearby places of the neighborhoods would be mined. places per neighborhood parameter would reasonably be set to 5000 and the radius parameter would be set to 1000."
   ]
  },
  {
   "cell_type": "markdown",
   "metadata": {},
   "source": [
    "### 1-3) Libraries : "
   ]
  },
  {
   "cell_type": "markdown",
   "metadata": {},
   "source": [
    "Pandas: For creating and manipulating dataframes.<br>\n",
    "Folium: Python visualization library would be used to visualize the neighborhoods cluster distribution of using interactive leaflet map.<br>\n",
    "JSON: Library to handle JSON files.<br>\n",
    "Geocoder: To retrieve Location Data.<br>\n",
    "Beautiful Soup and Requests: To scrap and library to handle http requests.<br>\n",
    "Matplotlib: Python Plotting Module<br>"
   ]
  }
 ],
 "metadata": {
  "kernelspec": {
   "display_name": "Python 3",
   "language": "python",
   "name": "python3"
  },
  "language_info": {
   "codemirror_mode": {
    "name": "ipython",
    "version": 3
   },
   "file_extension": ".py",
   "mimetype": "text/x-python",
   "name": "python",
   "nbconvert_exporter": "python",
   "pygments_lexer": "ipython3",
   "version": "3.8.2"
  }
 },
 "nbformat": 4,
 "nbformat_minor": 4
}
